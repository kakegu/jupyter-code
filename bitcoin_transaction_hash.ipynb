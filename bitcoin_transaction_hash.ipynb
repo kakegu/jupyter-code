{
  "nbformat": 4,
  "nbformat_minor": 0,
  "metadata": {
    "kernelspec": {
      "name": "python3",
      "display_name": "Python 3",
      "language": "python"
    },
    "language_info": {
      "name": "python",
      "version": "3.7.6",
      "mimetype": "text/x-python",
      "codemirror_mode": {
        "name": "ipython",
        "version": 3
      },
      "pygments_lexer": "ipython3",
      "nbconvert_exporter": "python",
      "file_extension": ".py"
    },
    "colab": {
      "name": "bitcoin_transaction_hash.ipynb",
      "provenance": [],
      "include_colab_link": true
    }
  },
  "cells": [
    {
      "cell_type": "markdown",
      "metadata": {
        "id": "view-in-github",
        "colab_type": "text"
      },
      "source": [
        "<a href=\"https://colab.research.google.com/github/kakegu/jupyter-code/blob/master/bitcoin_transaction_hash.ipynb\" target=\"_parent\"><img src=\"https://colab.research.google.com/assets/colab-badge.svg\" alt=\"Open In Colab\"/></a>"
      ]
    },
    {
      "cell_type": "code",
      "metadata": {
        "trusted": true,
        "id": "93hDGv5TT2cG",
        "colab_type": "code",
        "colab": {
          "base_uri": "https://localhost:8080/",
          "height": 102
        },
        "outputId": "63898b11-4fe8-4048-e101-fb37f0a41f37"
      },
      "source": [
        "import hashlib\n",
        "import binascii\n",
        "\n",
        "plain = \"01000000010000000000000000000000000000000000000000000000000000000000000000ffffffff4d04ffff001d0104455468652054696d65732030332f4a616e2f32303039204368616e63656c6c6f72206f6e206272696e6b206f66207365636f6e64206261696c6f757420666f722062616e6b73ffffffff0100f2052a01000000434104678afdb0fe5548271967f1a67130b7105cd6a828e03909a67962e0ea1f61deb649f6bc3f4cef38c4f35504e51ec112de5c384df7ba0b8d578a4c702b6bf11d5fac00000000\"\n",
        "\n",
        "sha256_1 = hashlib.sha256(binascii.unhexlify(plain)).hexdigest()\n",
        "sha256_2 = hashlib.sha256(binascii.unhexlify(sha256_1)).hexdigest()\n",
        "print(\"两次计算sha256结果\")\n",
        "print(sha256_2, \"\\n\")\n",
        "\n",
        "txHash = binascii.hexlify(binascii.unhexlify(sha256_2)[::-1]).decode(\"utf8\")\n",
        "print(\"最终交易Hash结果\")\n",
        "print(txHash)"
      ],
      "execution_count": 1,
      "outputs": [
        {
          "output_type": "stream",
          "text": [
            "两次计算sha256结果\n",
            "3ba3edfd7a7b12b27ac72c3e67768f617fc81bc3888a51323a9fb8aa4b1e5e4a \n",
            "\n",
            "最终交易Hash结果\n",
            "4a5e1e4baab89f3a32518a88c31bc87f618f76673e2cc77ab2127b7afdeda33b\n"
          ],
          "name": "stdout"
        }
      ]
    }
  ]
}